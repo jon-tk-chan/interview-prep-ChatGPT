{
 "cells": [
  {
   "cell_type": "markdown",
   "metadata": {
    "nbgrader": {
     "grade": false,
     "grade_id": "cell-db180de7c0f8d62a",
     "locked": true,
     "schema_version": 2,
     "solution": false
    }
   },
   "source": [
    "# Lab 1: Introduction to MDS homework and practice with Jupyter Notebooks"
   ]
  },
  {
   "cell_type": "markdown",
   "metadata": {
    "nbgrader": {
     "grade": false,
     "grade_id": "cell-698a6330449e9ed6",
     "locked": true,
     "schema_version": 2,
     "solution": false
    }
   },
   "source": [
    "In Lab 1, you will learn how to navigate a Jupyter Notebook (like this one). You should follow the instructions in the notebook to complete the assignment.\n",
    "\n",
    "### Submission Instructions\n",
    "rubric={mechanics:2}\n",
    "\n",
    "- [Follow the general lab instructions](https://ubc-mds.github.io/resources_pages/general_lab_instructions/)"
   ]
  },
  {
   "cell_type": "markdown",
   "metadata": {},
   "source": [
    "## 0. Getting your MDS homework from Github\n",
    "\n",
    "You will be given your MDS homework as GitHub repositories (think file folders or directories) on https://github.ubc.ca/.\n",
    "\n",
    "You will need to do a special kind of downloading (called cloning) so that you will be able to work on the homework on your laptop and also be able to submit the changes you made back to GitHub. In this lab you  will practice how to do this, which will involve:\n",
    "\n",
    "1. Using a command line program (*e.g.*, terminal on Mac and Linux or Powershell/Git Bash on Windows) to navigate your file system using the `cd`, `ls` and `pwd` commands.\n",
    "\n",
    "2. Using Git to `clone` (*i.e.*, download) a copy of your homework Git repository (*i.e.*, file folder) from GitHub to your laptop.\n",
    "\n",
    "3. Using the command line to open homework file(s) (*e.g.,* this file) inside Jupyter.\n",
    "\n",
    "4. Using Jupyter to edit homework file(s) to answer the questions within.\n",
    "\n",
    "5. Using Git to `add` and `commit` (*i.e.,* log) the edits/changes you made to homework file(s) to prepare the file to be submitted back to GitHub (where the TAs can access and mark it).\n",
    "\n",
    "6. Using Git to `push` (*i.e.,* upload) the `add`ed and `commit`ed changes to GitHub.\n",
    "\n",
    "This first lab is intended to help you learn (by practicing!) all the tools you will need to work with our homework submission system."
   ]
  },
  {
   "cell_type": "markdown",
   "metadata": {},
   "source": [
    "## 1. Jupyter notebooks\n",
    "This webpage is called a Jupyter notebook. A notebook is a place to write programs and view their results.\n",
    "\n",
    "### 1.1. Text cells\n",
    "In a notebook, each rectangle containing text or code is called a *cell*.\n",
    "\n",
    "Text cells (like this one) can be edited by double-clicking on them. They're written in a simple format called [Markdown](http://daringfireball.net/projects/markdown/syntax) to add formatting and section headings.  You will learn more about Markdown as you go through MDS and you will use it often! \n",
    "\n",
    "After you edit a text cell, select the \"run cell\" button at the top that looks like ▶ to confirm any changes."
   ]
  },
  {
   "cell_type": "markdown",
   "metadata": {},
   "source": [
    "### Question 1.1.1.\n",
    "rubric={correctness:1}\n",
    "\n",
    "This paragraph is in its own text cell.  Try editing it so that **this** sentence is the last sentence in the paragraph, and then select the \"run cell\" ▶ button on the top.  This sentence, for example, should be deleted.  So should this one."
   ]
  },
  {
   "cell_type": "markdown",
   "metadata": {},
   "source": [
    "Now try running the code in the cells below, again using the \"run cell\" ▶ button."
   ]
  },
  {
   "cell_type": "code",
   "execution_count": 1,
   "metadata": {},
   "outputs": [
    {
     "name": "stdout",
     "output_type": "stream",
     "text": [
      "Hello, World!\n"
     ]
    }
   ],
   "source": [
    "print(\"Hello, World!\")"
   ]
  },
  {
   "cell_type": "markdown",
   "metadata": {},
   "source": [
    "You can also run cells using the keyboard shortcuts `Shift+Enter`. Try using that keyboard shortcut to run the cell below: "
   ]
  },
  {
   "cell_type": "code",
   "execution_count": 2,
   "metadata": {},
   "outputs": [
    {
     "name": "stdout",
     "output_type": "stream",
     "text": [
      "👋, 🌏!\n"
     ]
    }
   ],
   "source": [
    "print(\"\\N{WAVING HAND SIGN}, \\N{EARTH GLOBE ASIA-AUSTRALIA}!\")"
   ]
  },
  {
   "cell_type": "markdown",
   "metadata": {},
   "source": [
    "The fundamental building block of Python code is an expression. Cells can contain multiple lines with multiple expressions. When you run a cell, the lines of code are executed in the order in which they appear. Every `print` expression prints a line. Run the next cell and notice the order of the output."
   ]
  },
  {
   "cell_type": "code",
   "execution_count": 3,
   "metadata": {},
   "outputs": [
    {
     "name": "stdout",
     "output_type": "stream",
     "text": [
      "First this line is printed,\n",
      "then this one,\n"
     ]
    }
   ],
   "source": [
    "print(\"First this line is printed,\")\n",
    "print(\"then this one,\")"
   ]
  },
  {
   "cell_type": "markdown",
   "metadata": {
    "nbgrader": {
     "grade": false,
     "grade_id": "cell-e29c6cfa11758b7c",
     "locked": true,
     "schema_version": 2,
     "solution": false
    }
   },
   "source": [
    "### Question 1.1.2.\n",
    "rubric={correctness:1}\n",
    "\n",
    "Change the cell below by replacing the following code:\n",
    "\n",
    "```\n",
    "# your code here\n",
    "raise NotImplementedError # No Answer - remove if you provide an answer\n",
    "```\n",
    "\n",
    "with another `print` expression so that it prints out:\n",
    "\n",
    "    First this line is printed,        \n",
    "    then this one,\n",
    "    and then the whole 🌏.\n",
    "\n",
    "*Hint:* If you're stuck on how to print the Earth symbol, try looking at the print expressions above."
   ]
  },
  {
   "cell_type": "code",
   "execution_count": 6,
   "metadata": {
    "nbgrader": {
     "grade": true,
     "grade_id": "cell-f7e5cc91909e08b4",
     "locked": false,
     "points": 0,
     "schema_version": 2,
     "solution": true
    }
   },
   "outputs": [
    {
     "name": "stdout",
     "output_type": "stream",
     "text": [
      "First this line is printed,\n",
      "then this one,\n",
      "and then the whole 🌏.\n"
     ]
    }
   ],
   "source": [
    "print(\"First this line is printed,\")\n",
    "print(\"then this one,\")\n",
    "print(\"and then the whole \\N{EARTH GLOBE ASIA-AUSTRALIA}.\")\n"
   ]
  },
  {
   "cell_type": "markdown",
   "metadata": {},
   "source": [
    "### 1.2. Comments\n",
    "You may have noticed this line in the cell above:\n",
    "\n",
    "```\n",
    "# your code here\n",
    "```\n",
    "\n",
    "That is called a comment. It doesn't make anything happen in Python; Python ignores anything on a line after a `#`. Instead, it's there to communicate something about the code to you, the human reader. Comments are extremely useful. Comments also exist in R and use the same `#` symbol.\n",
    "\n",
    "![](https://imgs.xkcd.com/comics/future_self.png)\n",
    "\n",
    "*source: https://xkcd.com/1421/*\n"
   ]
  },
  {
   "cell_type": "markdown",
   "metadata": {},
   "source": [
    "### 1.3. Writing Jupyter notebooks\n",
    "You can use Jupyter notebooks for your own projects or documents. They are among the world's most popular programming environments for data science. When you make your own notebook, you'll need to create your own cells for text and code.\n",
    "\n",
    "To add a cell, select the + button in the menu bar.  You can change between code cell and text cell by selecting the cell so that it's highlighted, then selecting the drop-down box next to the restart (⟳) button in the menu bar, and choosing Code instead of Markdown.\n",
    "\n",
    "### Question 1.3.1.\n",
    "rubric={correctness:1}\n",
    "\n",
    "Add a code cell below this one.  Write code in it that prints out:\n",
    "   \n",
    "    A whole new cell! \n",
    "    ♪🌏♪\n",
    "\n",
    "(That musical note symbol is like the Earth symbol.  Its long-form name is `\\N{EIGHTH NOTE}`.)\n",
    "\n",
    "Run your cell to verify that it works."
   ]
  },
  {
   "cell_type": "code",
   "execution_count": 9,
   "metadata": {},
   "outputs": [
    {
     "name": "stdout",
     "output_type": "stream",
     "text": [
      "A whole new cell!\n",
      "♪🌏♪\n"
     ]
    }
   ],
   "source": [
    "print(\"A whole new cell!\")\n",
    "print(\"\\N{EIGHTH NOTE}\\N{EARTH GLOBE ASIA-AUSTRALIA}\\N{EIGHTH NOTE}\")"
   ]
  },
  {
   "cell_type": "markdown",
   "metadata": {},
   "source": [
    "### 1.4. Errors\n",
    "Python is a language, and like natural human languages, it has rules.  It differs from natural language in two important ways:\n",
    "1. The rules are *simple*.  You can learn most of them in a few weeks and gain reasonable proficiency with the language in a semester.\n",
    "2. The rules are *rigid*.  If you're proficient in a natural language, you can understand a non-proficient speaker, glossing over small mistakes.  A computer running Python code is not smart enough to do that.\n",
    "\n",
    "Whenever you write code, you'll make mistakes.  When you run a code cell that has errors, Python will sometimes produce error messages to tell you what you did wrong.\n",
    "\n",
    "Errors are okay; even experienced programmers make **many** errors.  When you make an error, you just have to find the source of the problem, fix it, and move on.\n",
    "\n",
    "We have made an error in the next cell.  Run it and see what happens."
   ]
  },
  {
   "cell_type": "code",
   "execution_count": 10,
   "metadata": {},
   "outputs": [
    {
     "ename": "SyntaxError",
     "evalue": "unexpected EOF while parsing (<ipython-input-10-c7b7223ecd08>, line 1)",
     "output_type": "error",
     "traceback": [
      "\u001b[0;36m  File \u001b[0;32m\"<ipython-input-10-c7b7223ecd08>\"\u001b[0;36m, line \u001b[0;32m1\u001b[0m\n\u001b[0;31m    print(\"This line is missing something.\"\u001b[0m\n\u001b[0m                                           ^\u001b[0m\n\u001b[0;31mSyntaxError\u001b[0m\u001b[0;31m:\u001b[0m unexpected EOF while parsing\n"
     ]
    }
   ],
   "source": [
    "print(\"This line is missing something.\""
   ]
  },
  {
   "cell_type": "markdown",
   "metadata": {
    "nbgrader": {
     "grade": false,
     "grade_id": "cell-9cd3a68e0b404ef7",
     "locked": true,
     "schema_version": 2,
     "solution": false
    }
   },
   "source": [
    "You should see something like this (minus our annotations):\n",
    "\n",
    "![](imgs/error.jpg)\n",
    "\n",
    "The last line of the error output attempts to tell you what went wrong.  The *syntax* of a language is its structure, and this `SyntaxError` tells you that you have created an illegal structure.  \"`EOF`\" means \"end of file,\" so the message is saying Python expected you to write something more (in this case, a right parenthesis) before finishing the cell.\n",
    "\n",
    "There's a lot of terminology in programming languages. You'll learn as you go. If you are ever having trouble understanding an error message, search the discussion forum. If you don't find an answer, post a question about the error yourself.\n",
    "\n",
    "Try to fix the code above so that you can run the cell and see the intended message instead of an error."
   ]
  },
  {
   "cell_type": "markdown",
   "metadata": {
    "nbgrader": {
     "grade": false,
     "grade_id": "cell-f7cad7d513d5f64c",
     "locked": true,
     "schema_version": 2,
     "solution": false
    }
   },
   "source": [
    "### 1.5. The Kernel\n",
    "The kernel is a program that executes the code inside your notebook and outputs the results. In the top right of your window, you can see a circle that indicates the status of your kernel. If the circle is empty (⚪), the kernel is idle and ready to execute code. If the circle is filled in (⚫), the kernel is busy running some code. \n",
    "\n",
    "You may run into problems where your kernel is stuck for an excessive amount of time, your notebook is very slow and unresponsive, or your kernel loses its connection. If this happens, try the following steps:\n",
    "1. At the top of your screen, select **Kernel**, then **Interrupt**.\n",
    "2. If that doesn't help, select **Kernel**, then **Restart**. If you do this, you will have to run your code cells from the start of your notebook up until where you paused your work.\n",
    "3. If that doesn't help, restart your server. But first, save your work by selecting **File** at the top left of your screen, then **Save**."
   ]
  },
  {
   "cell_type": "markdown",
   "metadata": {
    "nbgrader": {
     "grade": false,
     "grade_id": "cell-feb8ce1a88f5f9da",
     "locked": true,
     "schema_version": 2,
     "solution": false
    }
   },
   "source": [
    "Jupyter can run many different kernels, meaning that you can run a Python kernel to use Python inside a Jupyter notebook AND you can also run a R kernel to use R inside a Jupyter notebook. When you are inside a Jupyter notebook the name of the kernel can be found beside the circle that tells you what your kernel is doing (⚪). This notebook is using the Python 3 kernel. "
   ]
  },
  {
   "cell_type": "markdown",
   "metadata": {
    "nbgrader": {
     "grade": false,
     "grade_id": "cell-fc1b78bfe86cd7f0",
     "locked": true,
     "schema_version": 2,
     "solution": false
    }
   },
   "source": [
    "### 1.6. Autograded questions\n",
    "\n",
    "Many assignments in MDS will be distributed as notebooks like this one. At the top of each assignment, you'll see a cell like the one below that imports the code needed to run the autograder tests. Run it to import the autograder tests.\n",
    "\n"
   ]
  },
  {
   "cell_type": "code",
   "execution_count": 11,
   "metadata": {
    "nbgrader": {
     "grade": false,
     "grade_id": "cell-f16c5488f0a93fe7",
     "locked": true,
     "schema_version": 2,
     "solution": false
    }
   },
   "outputs": [],
   "source": [
    "# Don't change this cell, just run it\n",
    "# Import code needed for autograder tests\n",
    "from hashlib import sha1"
   ]
  },
  {
   "cell_type": "markdown",
   "metadata": {
    "nbgrader": {
     "grade": false,
     "grade_id": "cell-5014f026cb45b869",
     "locked": true,
     "schema_version": 2,
     "solution": false
    }
   },
   "source": [
    "Autograded questions start off like some of the questions you have seen above, where you have to change and replace the code that looks like this:\n",
    "\n",
    "```\n",
    "# your code here\n",
    "raise NotImplementedError # No Answer - remove if you provide an answer\n",
    "```\n",
    "In addition to this, with the autograded questions you can also run the tests to check if your answer is correct. You can run the tests as many times as you would like. If you see \"success!\" printed after running the autograding test cells that means your answer was correct. MDS labs will be a mix of manually graded and autograded questions.\n",
    "\n",
    "Let's try our first autograded question below:\n",
    "\n",
    "### Question 1.6.1\n",
    "rubric={autograde:1}\n",
    "\n",
    "In Python you can assign a value to an object using the equals sign, for example:\n",
    "\n",
    "```\n",
    "x = 5\n",
    "```\n",
    "\n",
    "creates an object named x that holds the value 5. \n",
    "\n",
    "In the cell below, create another object named y and assign it the value 10."
   ]
  },
  {
   "cell_type": "code",
   "execution_count": 12,
   "metadata": {
    "nbgrader": {
     "grade": false,
     "grade_id": "cell-f4a194e73431293b",
     "locked": false,
     "schema_version": 2,
     "solution": true
    }
   },
   "outputs": [
    {
     "name": "stdout",
     "output_type": "stream",
     "text": [
      "10\n"
     ]
    }
   ],
   "source": [
    "# create object named y with a value of 10\n",
    "y = 10\n",
    "print(y)"
   ]
  },
  {
   "cell_type": "code",
   "execution_count": 13,
   "metadata": {
    "nbgrader": {
     "grade": true,
     "grade_id": "cell-87a8d7a9f3fb5dad",
     "locked": true,
     "points": 0,
     "schema_version": 2,
     "solution": false
    }
   },
   "outputs": [
    {
     "name": "stdout",
     "output_type": "stream",
     "text": [
      "success!\n"
     ]
    }
   ],
   "source": [
    "# run this cell to check your answer in the cell above\n",
    "assert sha1(str(y).encode('utf8')).hexdigest() == 'b1d5781111d84f7b3fe45a0852e59758cd7a87e5', \"y should have the value of 10.\"\n",
    "print(\"success!\")"
   ]
  },
  {
   "cell_type": "markdown",
   "metadata": {
    "nbgrader": {
     "grade": false,
     "grade_id": "cell-12013e58c0e6b965",
     "locked": true,
     "schema_version": 2,
     "solution": false
    }
   },
   "source": [
    "## 1.7. Creating new notebooks\n",
    "\n",
    "In MDS (and beyond) you will have to create new notebooks using the appropriate kernel to run the language you want to run. There are several ways to create a new notebook. One way is to:\n",
    "\n",
    "1. launch Jupyter by typing `jupyter lab` in Terminal\n",
    "2. from the launcher page, choose the kernel (either Python or R) that you want\n",
    "3. rename the notebook with some meaningful name (i.e., never name your notebook \"Untitled*.ipynb\") by right-clicking on the notebook tab and selecting `Rename Notebook...`"
   ]
  },
  {
   "cell_type": "markdown",
   "metadata": {
    "nbgrader": {
     "grade": false,
     "grade_id": "cell-120b304662fac117",
     "locked": true,
     "schema_version": 2,
     "solution": false
    }
   },
   "source": [
    "### Question 1.7.1.\n",
    "rubric={mechanics:2}\n",
    "\n",
    "- Create a new **Python** notebook (a different file than this one) in the same directory as this notebook.\n",
    "- Give it a meaningful name.\n",
    "- Create at least one Markdown and one code cell in it (these can be really simple, e.g., `print(\"Hiya\")` is fine for a code cell), and run both cells.\n",
    "- Save the notebook with the run cells (i.e., make sure you can see the cell outputs).\n",
    "- Put the new notebook under version control using Git, and push/upload the file to your GitHub repository for this homework.\n",
    "- Paste a link to the new notebook as your answer below.\n",
    " "
   ]
  },
  {
   "cell_type": "markdown",
   "metadata": {
    "nbgrader": {
     "grade": true,
     "grade_id": "cell-6aa1904f1ac0872e",
     "locked": false,
     "points": 0,
     "schema_version": 2,
     "solution": true
    }
   },
   "source": [
    "**Your answer:**"
   ]
  },
  {
   "cell_type": "markdown",
   "metadata": {
    "nbgrader": {
     "grade": false,
     "grade_id": "cell-ea3b0758843c81a6",
     "locked": true,
     "schema_version": 2,
     "solution": false
    }
   },
   "source": [
    "### Question 1.7.2.\n",
    "rubric={mechanics:2}\n",
    "\n",
    "- Create a new **R** notebook (a different file than this one) in the same directory as this notebook.\n",
    "- Give it a meaningful name.\n",
    "- Create at least one Markdown and one code cell in it (these can be really simple, e.g., `print(\"Hiya\")` is fine for a code cell), and run both cells.\n",
    "- Save the notebook with the run cells (i.e., make sure you can see the cell outputs).\n",
    "- Put the new notebook under version control using Git, and push/upload the file to your GitHub repository for this homework.\n",
    "- Paste a link to the new notebook as your answer below."
   ]
  },
  {
   "cell_type": "markdown",
   "metadata": {
    "nbgrader": {
     "grade": true,
     "grade_id": "cell-2fdeb19bb655783e",
     "locked": false,
     "points": 0,
     "schema_version": 2,
     "solution": true
    }
   },
   "source": [
    "**Your answer:**"
   ]
  },
  {
   "cell_type": "markdown",
   "metadata": {
    "nbgrader": {
     "grade": false,
     "grade_id": "cell-497d0f31c41ec653",
     "locked": true,
     "schema_version": 2,
     "solution": false
    }
   },
   "source": [
    "## 1.8. Using the command line to navigate your filesystem\n",
    "\n",
    "In the first lecture and lab we went through a tutorial to introduce you to using the command line to navigate your filesystem. Below are some questions to check-in on your understanding of the 3 key commands needed to do this (`cd`, `ls` and `pwd`), as well as some other key concepts that are needed to succesfully do this."
   ]
  },
  {
   "cell_type": "markdown",
   "metadata": {
    "nbgrader": {
     "grade": false,
     "grade_id": "cell-0bca155d86404f23",
     "locked": true,
     "schema_version": 2,
     "solution": false
    }
   },
   "source": [
    "### Question 1.8.1.\n",
    "rubric={reasoning:1}\n",
    "\n",
    "With your own words and in 1-2 sentences, describe what the `cd` command does. If there is a default behaviour for this command (behaviour when no argument is given), also describe that."
   ]
  },
  {
   "cell_type": "markdown",
   "metadata": {
    "nbgrader": {
     "grade": true,
     "grade_id": "cell-e904cfec95c33cd0",
     "locked": false,
     "points": 0,
     "schema_version": 2,
     "solution": true
    }
   },
   "source": [
    "**Your answer:**"
   ]
  },
  {
   "cell_type": "markdown",
   "metadata": {
    "nbgrader": {
     "grade": false,
     "grade_id": "cell-a80b260e86d91674",
     "locked": true,
     "schema_version": 2,
     "solution": false
    }
   },
   "source": [
    "### Question 1.8.2.\n",
    "rubric={reasoning:1}\n",
    "\n",
    "With your own words and in 1-2 sentences, describe what the `pwd` command does. If there is a default behaviour for this command (behaviour when no argument is given), also describe that."
   ]
  },
  {
   "cell_type": "markdown",
   "metadata": {
    "nbgrader": {
     "grade": true,
     "grade_id": "cell-60ca2509dda0baf0",
     "locked": false,
     "points": 0,
     "schema_version": 2,
     "solution": true
    }
   },
   "source": [
    "**Your answer:**"
   ]
  },
  {
   "cell_type": "markdown",
   "metadata": {
    "nbgrader": {
     "grade": false,
     "grade_id": "cell-3fdebe545e38845f",
     "locked": true,
     "schema_version": 2,
     "solution": false
    }
   },
   "source": [
    "### Question 1.8.3.\n",
    "rubric={reasoning:1}\n",
    "\n",
    "With your own words and in 1-2 sentences, describe what the `ls` command does. If there is a default behaviour for this command (behaviour when no argument is given), also describe that.\n"
   ]
  },
  {
   "cell_type": "markdown",
   "metadata": {
    "nbgrader": {
     "grade": true,
     "grade_id": "cell-1961548532c20b1f",
     "locked": false,
     "points": 0,
     "schema_version": 2,
     "solution": true
    }
   },
   "source": [
    "**Your answer:**"
   ]
  },
  {
   "cell_type": "markdown",
   "metadata": {
    "nbgrader": {
     "grade": false,
     "grade_id": "cell-e834dbb0f6a34960",
     "locked": true,
     "schema_version": 2,
     "solution": false
    }
   },
   "source": [
    "### Question 1.8.4.\n",
    "rubric={autograde:1}\n",
    "\n",
    "If `pwd` results in `/Users/tiffany/data/`, which of the following commands could Tiffany use to navigate to her home directory, which is `/Users/tiffany`? To answer the question assign the letter (just the letter, not the period) associated with the correct answer to a variable named `answer_184` in the the code cell below:\n",
    "\n",
    "A. `cd .`\n",
    "\n",
    "B. `cd /`\n",
    "\n",
    "C. `cd tiffany`\n",
    "\n",
    "D. `cd ..`\n"
   ]
  },
  {
   "cell_type": "code",
   "execution_count": 14,
   "metadata": {
    "nbgrader": {
     "grade": false,
     "grade_id": "cell-f52dcb2fb8cf365e",
     "locked": false,
     "schema_version": 2,
     "solution": true
    }
   },
   "outputs": [
    {
     "name": "stdout",
     "output_type": "stream",
     "text": [
      "D\n"
     ]
    }
   ],
   "source": [
    "# Assign your answer to an object called: answer_184\n",
    "# Make sure the correct answer is an uppercase letter. \n",
    "# Surround your answer with quotation marks.\n",
    "\n",
    "answer_184 = \"D\"\n",
    "print(answer_184)"
   ]
  },
  {
   "cell_type": "code",
   "execution_count": 15,
   "metadata": {
    "nbgrader": {
     "grade": true,
     "grade_id": "cell-062a25adb1fc35b0",
     "locked": true,
     "points": 0,
     "schema_version": 2,
     "solution": false
    }
   },
   "outputs": [
    {
     "name": "stdout",
     "output_type": "stream",
     "text": [
      "success!\n"
     ]
    }
   ],
   "source": [
    "# run this cell to check your answer in the cell above\n",
    "assert sha1(str(answer_184).encode('utf8')).hexdigest() == '50c9e8d5fc98727b4bbc93cf5d64a68db647f04f', \"Incorrect answer, try again!\"\n",
    "print(\"success!\")"
   ]
  },
  {
   "cell_type": "markdown",
   "metadata": {
    "nbgrader": {
     "grade": false,
     "grade_id": "cell-410f4bda423465c1",
     "locked": true,
     "schema_version": 2,
     "solution": false
    }
   },
   "source": [
    "### Question 1.8.5.\n",
    "rubric={autograde:1}\n",
    "\n",
    "Using the filesystem diagram below, if `pwd` displays `/Users/backup/`, what will `ls ..` display? To answer the question assign the letter (just the letter, not the period) associated with the correct answer to a variable named `answer_185` in the the code cell below:\n",
    "\n",
    "A. `..: No such file or directory`\n",
    "\n",
    "B. `thing/ backup/` \n",
    "\n",
    "C. `Users/`\n",
    "\n",
    "D. `original/ pnas_final/ pnas_sub/`"
   ]
  },
  {
   "cell_type": "markdown",
   "metadata": {
    "nbgrader": {
     "grade": false,
     "grade_id": "cell-8b8e30d5c2306e97",
     "locked": true,
     "schema_version": 2,
     "solution": false
    }
   },
   "source": [
    "![](imgs/filesystem-challenge.jpg)"
   ]
  },
  {
   "cell_type": "code",
   "execution_count": 21,
   "metadata": {
    "nbgrader": {
     "grade": false,
     "grade_id": "cell-e15a368e517a39f2",
     "locked": false,
     "schema_version": 2,
     "solution": true
    }
   },
   "outputs": [
    {
     "name": "stdout",
     "output_type": "stream",
     "text": [
      "B\n"
     ]
    }
   ],
   "source": [
    "# Assign your answer to an object called: answer_185\n",
    "# Make sure the correct answer is an uppercase letter. \n",
    "# Surround your answer with quotation marks.\n",
    "\n",
    "answer_185 = \"B\"\n",
    "print(answer_185)"
   ]
  },
  {
   "cell_type": "code",
   "execution_count": 22,
   "metadata": {
    "nbgrader": {
     "grade": true,
     "grade_id": "cell-b10ffe8d02afded1",
     "locked": true,
     "points": 0,
     "schema_version": 2,
     "solution": false
    }
   },
   "outputs": [
    {
     "name": "stdout",
     "output_type": "stream",
     "text": [
      "success!\n"
     ]
    }
   ],
   "source": [
    "# run this cell to check your answer in the cell above\n",
    "assert sha1(str(answer_185).encode('utf8')).hexdigest() == 'ae4f281df5a5d0ff3cad6371f76d5c29b6d953ec', \"Incorrect answer, try again!\"\n",
    "print(\"success!\")"
   ]
  },
  {
   "cell_type": "markdown",
   "metadata": {
    "nbgrader": {
     "grade": false,
     "grade_id": "cell-c339e38153a6aec8",
     "locked": true,
     "schema_version": 2,
     "solution": false
    }
   },
   "source": [
    "## 1.9. Using the Git and GitHub\n",
    "\n",
    "In the first lecture and lab we went through a tutorial to introduce you to using Git and GitHub to access, log changes, and submit your homework. Below are some multiple choice questions to check-in on your understanding of the key commands needed to do this (`clone`, `add`, `commit`, `push` and `pull`), as well as some other key concepts that are needed to succesfully do this."
   ]
  },
  {
   "cell_type": "markdown",
   "metadata": {
    "nbgrader": {
     "grade": false,
     "grade_id": "cell-b2c59368e8d8154b",
     "locked": true,
     "schema_version": 2,
     "solution": false
    }
   },
   "source": [
    "### Question 1.9.1.\n",
    "rubric={autograde:1}\n",
    "\n",
    "Which command(s) below would save the changes of `README.md` to my local Git repository? To answer the question assign the letter (just the letter, not the period) associated with the correct answer to a variable named `answer_191` in the the code cell below:\n",
    "\n",
    " \n",
    ">A.\n",
    "```\n",
    "git init README.md\n",
    "git commit -m \"added authors and copyright\"\n",
    "```\n",
    "\n",
    " \n",
    ">B.\n",
    "```\n",
    "git commit -m \"added authors and copyright\"\n",
    "```\n",
    " \n",
    "\n",
    ">C.\n",
    "```\n",
    "git add README.md\n",
    "git commit -m \"added authors and copyright\"\n",
    "```\n",
    "\n",
    "\n",
    ">D.\n",
    "```\n",
    "git commit -m README.md \"added authors and copyright\"\n",
    "```"
   ]
  },
  {
   "cell_type": "code",
   "execution_count": 23,
   "metadata": {
    "nbgrader": {
     "grade": false,
     "grade_id": "cell-8cc44628a0b3879a",
     "locked": false,
     "schema_version": 2,
     "solution": true
    }
   },
   "outputs": [
    {
     "name": "stdout",
     "output_type": "stream",
     "text": [
      "C\n"
     ]
    }
   ],
   "source": [
    "# Assign your answer to an object called: answer_191\n",
    "# Make sure the correct answer is an uppercase letter. \n",
    "# Surround your answer with quotation marks.\n",
    "\n",
    "answer_191 = \"C\"\n",
    "print(answer_191)"
   ]
  },
  {
   "cell_type": "code",
   "execution_count": 24,
   "metadata": {
    "nbgrader": {
     "grade": true,
     "grade_id": "cell-fccdcd414eb5ae6b",
     "locked": true,
     "points": 0,
     "schema_version": 2,
     "solution": false
    }
   },
   "outputs": [
    {
     "name": "stdout",
     "output_type": "stream",
     "text": [
      "success!\n"
     ]
    }
   ],
   "source": [
    "# run this cell to check your answer in the cell above\n",
    "assert sha1(str(answer_191).encode('utf8')).hexdigest() == '32096c2e0eff33d844ee6d675407ace18289357d', \"Incorrect answer, try again!\"\n",
    "print(\"success!\")"
   ]
  },
  {
   "cell_type": "markdown",
   "metadata": {
    "nbgrader": {
     "grade": false,
     "grade_id": "cell-a2924b65858c3053",
     "locked": true,
     "schema_version": 2,
     "solution": false
    }
   },
   "source": [
    "### Question 1.9.2.\n",
    "\n",
    "With your own words and in 1-2 sentences, compare and contrast `git pull` and `git push`."
   ]
  },
  {
   "cell_type": "markdown",
   "metadata": {
    "nbgrader": {
     "grade": true,
     "grade_id": "cell-f3a37f6069fa053a",
     "locked": false,
     "points": 0,
     "schema_version": 2,
     "solution": true
    }
   },
   "source": [
    "**Your answer:**"
   ]
  },
  {
   "cell_type": "markdown",
   "metadata": {
    "nbgrader": {
     "grade": false,
     "grade_id": "cell-6c7787b6dc9f3e79",
     "locked": true,
     "schema_version": 2,
     "solution": false
    }
   },
   "source": [
    "### Question 1.9.3.\n",
    "rubric={reasoning:1}\n",
    "\n",
    "With your own words and in 1-2 sentences, explain why you should use `git clone` to get a copy of your homework (or other Git repositories) from GitHub as opposed to clicking on the \"Download ZIP\" link."
   ]
  },
  {
   "cell_type": "markdown",
   "metadata": {
    "nbgrader": {
     "grade": true,
     "grade_id": "cell-46e9aef1a3bc6885",
     "locked": false,
     "points": 0,
     "schema_version": 2,
     "solution": true
    }
   },
   "source": [
    "**Your answer:**"
   ]
  },
  {
   "cell_type": "markdown",
   "metadata": {
    "nbgrader": {
     "grade": false,
     "grade_id": "cell-2b2e93d4292ac07d",
     "locked": true,
     "schema_version": 2,
     "solution": false
    }
   },
   "source": [
    "### Question 1.9.4.\n",
    "rubric={autograde:1}\n",
    "\n",
    "When working on a project that is under version control (*e.g.,* MDS homework/labs) you should `commit` to Git:\n",
    "\n",
    "A. after every new unit/addition/fix you add to the project\n",
    "\n",
    "B. 2-3 times\n",
    "\n",
    "C. only once, shortly before the deadline\n",
    "\n",
    "D. obsessively, like every 5 minutes\n",
    "\n",
    "To answer the question assign the letter (just the letter, not the period) associated with the correct answer to a variable named `answer_194` in the the code cell below:"
   ]
  },
  {
   "cell_type": "code",
   "execution_count": null,
   "metadata": {
    "nbgrader": {
     "grade": false,
     "grade_id": "cell-51c186563c0865a9",
     "locked": false,
     "schema_version": 2,
     "solution": true
    }
   },
   "outputs": [],
   "source": [
    "# Assign your answer to an object called: answer_194\n",
    "# Make sure the correct answer is an uppercase letter. \n",
    "# Surround your answer with quotation marks.\n",
    "\n",
    "# your code here\n",
    "raise NotImplementedError # No Answer - remove if you provide an answer\n",
    "print(answer_194)"
   ]
  },
  {
   "cell_type": "code",
   "execution_count": null,
   "metadata": {
    "nbgrader": {
     "grade": true,
     "grade_id": "cell-c0002999eb27939f",
     "locked": true,
     "points": 0,
     "schema_version": 2,
     "solution": false
    }
   },
   "outputs": [],
   "source": [
    "# run this cell to check your answer in the cell above\n",
    "assert sha1(str(answer_194).encode('utf8')).hexdigest() == '6dcd4ce23d88e2ee9568ba546c007c63d9131c1b', \"Incorrect answer, try again!\"\n",
    "print(\"success!\")"
   ]
  },
  {
   "cell_type": "markdown",
   "metadata": {
    "nbgrader": {
     "grade": false,
     "grade_id": "cell-9409642c7f7987f8",
     "locked": true,
     "schema_version": 2,
     "solution": false
    }
   },
   "source": [
    "### Question 1.9.5.\n",
    "rubric={autograde:1}\n",
    "\n",
    "When working on a project that is under version control (*e.g.,* MDS homework/labs) you should `push` to Git:\n",
    "\n",
    "A. obsessively, like every 5 minutes\n",
    "\n",
    "B. at least at the end of every session you work on the project\n",
    "\n",
    "C. 2-3 times\n",
    "\n",
    "D. only once, shortly before the deadline\n",
    "\n",
    "\n",
    "To answer the question assign the letter (just the letter, not the period) associated with the correct answer to a variable named `answer_195` in the the code cell below:"
   ]
  },
  {
   "cell_type": "code",
   "execution_count": null,
   "metadata": {
    "nbgrader": {
     "grade": false,
     "grade_id": "cell-2e7587977948be31",
     "locked": false,
     "schema_version": 2,
     "solution": true
    }
   },
   "outputs": [],
   "source": [
    "# Assign your answer to an object called: answer_195\n",
    "# Make sure the correct answer is an uppercase letter. \n",
    "# Surround your answer with quotation marks.\n",
    "\n",
    "# your code here\n",
    "raise NotImplementedError # No Answer - remove if you provide an answer\n",
    "print(answer_195)"
   ]
  },
  {
   "cell_type": "code",
   "execution_count": null,
   "metadata": {
    "nbgrader": {
     "grade": true,
     "grade_id": "cell-cc97c8d2f16d453b",
     "locked": true,
     "points": 0,
     "schema_version": 2,
     "solution": false
    }
   },
   "outputs": [],
   "source": [
    "# run this cell to check your answer in the cell above\n",
    "assert sha1(str(answer_195).encode('utf8')).hexdigest() == 'ae4f281df5a5d0ff3cad6371f76d5c29b6d953ec', \"Incorrect answer, try again!\"\n",
    "print(\"success!\")"
   ]
  },
  {
   "cell_type": "markdown",
   "metadata": {},
   "source": [
    "## 2. Extras - I want to learn more!!!"
   ]
  },
  {
   "cell_type": "markdown",
   "metadata": {
    "nbgrader": {
     "grade": false,
     "grade_id": "cell-8a3e962635e342d6",
     "locked": true,
     "schema_version": 2,
     "solution": false
    }
   },
   "source": [
    "### Question 2.1 (Optional)\n",
    "rubric={reasoning:1}\n",
    " \t\t\n",
    "- Install a Git client that you have never tried before (e.g., [Git Kraken](https://www.gitkraken.com/), [Sourcetree](https://www.sourcetreeapp.com/), [Github Desktop](https://desktop.github.com/))\n",
    "- Make another small improvement to your a GitHub repo (e.g., this homework)\n",
    "- This time when you add and commit the changes, do this using the Git client you installed. Specifically:\n",
    "    - Use the Git client to push the changes to Github\n",
    "    - Use the Git client to pull your partners changes to their repo to your own laptop\n",
    "    - Use the Git client to view the history & checkout an older version of the file (no need to add, commit or push this, we just want to to experience how this is done)\n",
    "\n",
    "In a paragraph or two, discuss the similarities and differences between adding, committing, pushing, pulling, reviewing history and checking out files using the command line versus the Git Client. Which do you prefer and why?"
   ]
  },
  {
   "cell_type": "markdown",
   "metadata": {
    "nbgrader": {
     "grade": true,
     "grade_id": "cell-31a360f4dab457be",
     "locked": false,
     "points": 0,
     "schema_version": 2,
     "solution": true
    }
   },
   "source": [
    "**Your answer:**"
   ]
  },
  {
   "cell_type": "markdown",
   "metadata": {},
   "source": [
    "### Attribution\n",
    "\n",
    "- [Data 8: The Foundations of Data Science](http://data8.org/), specifically Lab 01\n",
    "- [Software Carpentry](https://software-carpentry.org/), specifically the Unix Shell and Git lessons"
   ]
  }
 ],
 "metadata": {
  "celltoolbar": "Create Assignment",
  "kernelspec": {
   "display_name": "Python 3",
   "language": "python",
   "name": "python3"
  },
  "language_info": {
   "codemirror_mode": {
    "name": "ipython",
    "version": 3
   },
   "file_extension": ".py",
   "mimetype": "text/x-python",
   "name": "python",
   "nbconvert_exporter": "python",
   "pygments_lexer": "ipython3",
   "version": "3.7.3"
  }
 },
 "nbformat": 4,
 "nbformat_minor": 4
}
